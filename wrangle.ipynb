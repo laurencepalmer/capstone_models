{
 "cells": [
  {
   "cell_type": "code",
   "execution_count": 7,
   "metadata": {},
   "outputs": [],
   "source": [
    "import pandas as pd\n",
    "import numpy as np\n",
    "import matplotlib.pyplot as plt\n",
    "from sklearn import preprocessing\n",
    "import seaborn as sns "
   ]
  },
  {
   "cell_type": "code",
   "execution_count": 2,
   "metadata": {},
   "outputs": [],
   "source": [
    "# idaho wrangling\n",
    "idaho = pd.read_csv(\"data/idaho_data/Idaho_2000_2022.csv\", index_col=False)"
   ]
  },
  {
   "cell_type": "code",
   "execution_count": 6,
   "metadata": {},
   "outputs": [
    {
     "data": {
      "text/plain": [
       "138"
      ]
     },
     "execution_count": 6,
     "metadata": {},
     "output_type": "execute_result"
    }
   ],
   "source": [
    "len(idaho[\"Investment Name\"].unique())"
   ]
  },
  {
   "cell_type": "code",
   "execution_count": 18,
   "metadata": {},
   "outputs": [],
   "source": [
    "cols = idaho.columns.drop([\"Date\", \"Investment Name\"])\n",
    "idaho1 = idaho[idaho.columns.drop([\"Date\", \"Investment Name\"])]\n",
    "normalized_idaho1=(idaho1-idaho1.min())/(idaho1.max()-idaho1.min())"
   ]
  },
  {
   "cell_type": "code",
   "execution_count": 19,
   "metadata": {},
   "outputs": [],
   "source": [
    "normal_cp = normalized_idaho1.copy()\n"
   ]
  },
  {
   "cell_type": "code",
   "execution_count": 20,
   "metadata": {},
   "outputs": [],
   "source": [
    "idaho[cols] = normal_cp"
   ]
  },
  {
   "cell_type": "code",
   "execution_count": 21,
   "metadata": {},
   "outputs": [
    {
     "data": {
      "text/html": [
       "<div>\n",
       "<style scoped>\n",
       "    .dataframe tbody tr th:only-of-type {\n",
       "        vertical-align: middle;\n",
       "    }\n",
       "\n",
       "    .dataframe tbody tr th {\n",
       "        vertical-align: top;\n",
       "    }\n",
       "\n",
       "    .dataframe thead th {\n",
       "        text-align: right;\n",
       "    }\n",
       "</style>\n",
       "<table border=\"1\" class=\"dataframe\">\n",
       "  <thead>\n",
       "    <tr style=\"text-align: right;\">\n",
       "      <th></th>\n",
       "      <th>Investment Name</th>\n",
       "      <th>Capital Committed</th>\n",
       "      <th>Unfunded Commitment</th>\n",
       "      <th>Paid-in Capital/Capital Drawn</th>\n",
       "      <th>Total Capital Distributed</th>\n",
       "      <th>Reported Market Value</th>\n",
       "      <th>Net IRR</th>\n",
       "      <th>Date</th>\n",
       "      <th>Capital Distributed Per Quarter</th>\n",
       "    </tr>\n",
       "  </thead>\n",
       "  <tbody>\n",
       "    <tr>\n",
       "      <th>0</th>\n",
       "      <td>Chisholm Partners IV, L.P.</td>\n",
       "      <td>0.145182</td>\n",
       "      <td>0.355134</td>\n",
       "      <td>0.045476</td>\n",
       "      <td>0.000032</td>\n",
       "      <td>0.048581</td>\n",
       "      <td>0.814990</td>\n",
       "      <td>2000-03-31</td>\n",
       "      <td>0.066500</td>\n",
       "    </tr>\n",
       "    <tr>\n",
       "      <th>1</th>\n",
       "      <td>Chisholm Partners IV, L.P.</td>\n",
       "      <td>0.145182</td>\n",
       "      <td>0.326958</td>\n",
       "      <td>0.067548</td>\n",
       "      <td>0.000020</td>\n",
       "      <td>0.078374</td>\n",
       "      <td>0.819363</td>\n",
       "      <td>2000-06-30</td>\n",
       "      <td>0.066424</td>\n",
       "    </tr>\n",
       "    <tr>\n",
       "      <th>2</th>\n",
       "      <td>Chisholm Partners IV, L.P.</td>\n",
       "      <td>0.145182</td>\n",
       "      <td>0.300950</td>\n",
       "      <td>0.087922</td>\n",
       "      <td>0.000020</td>\n",
       "      <td>0.118727</td>\n",
       "      <td>0.825260</td>\n",
       "      <td>2000-09-30</td>\n",
       "      <td>0.066450</td>\n",
       "    </tr>\n",
       "    <tr>\n",
       "      <th>3</th>\n",
       "      <td>Chisholm Partners IV, L.P.</td>\n",
       "      <td>0.145182</td>\n",
       "      <td>0.298899</td>\n",
       "      <td>0.089528</td>\n",
       "      <td>0.003257</td>\n",
       "      <td>0.111046</td>\n",
       "      <td>0.820941</td>\n",
       "      <td>2000-12-31</td>\n",
       "      <td>0.073308</td>\n",
       "    </tr>\n",
       "    <tr>\n",
       "      <th>4</th>\n",
       "      <td>Chisholm Partners IV, L.P.</td>\n",
       "      <td>0.145182</td>\n",
       "      <td>0.293488</td>\n",
       "      <td>0.093767</td>\n",
       "      <td>0.003269</td>\n",
       "      <td>0.113928</td>\n",
       "      <td>0.819646</td>\n",
       "      <td>2001-03-31</td>\n",
       "      <td>0.066476</td>\n",
       "    </tr>\n",
       "  </tbody>\n",
       "</table>\n",
       "</div>"
      ],
      "text/plain": [
       "              Investment Name  Capital Committed  Unfunded Commitment  \\\n",
       "0  Chisholm Partners IV, L.P.           0.145182             0.355134   \n",
       "1  Chisholm Partners IV, L.P.           0.145182             0.326958   \n",
       "2  Chisholm Partners IV, L.P.           0.145182             0.300950   \n",
       "3  Chisholm Partners IV, L.P.           0.145182             0.298899   \n",
       "4  Chisholm Partners IV, L.P.           0.145182             0.293488   \n",
       "\n",
       "   Paid-in Capital/Capital Drawn  Total Capital Distributed  \\\n",
       "0                       0.045476                   0.000032   \n",
       "1                       0.067548                   0.000020   \n",
       "2                       0.087922                   0.000020   \n",
       "3                       0.089528                   0.003257   \n",
       "4                       0.093767                   0.003269   \n",
       "\n",
       "   Reported Market Value   Net IRR        Date  \\\n",
       "0               0.048581  0.814990  2000-03-31   \n",
       "1               0.078374  0.819363  2000-06-30   \n",
       "2               0.118727  0.825260  2000-09-30   \n",
       "3               0.111046  0.820941  2000-12-31   \n",
       "4               0.113928  0.819646  2001-03-31   \n",
       "\n",
       "   Capital Distributed Per Quarter  \n",
       "0                         0.066500  \n",
       "1                         0.066424  \n",
       "2                         0.066450  \n",
       "3                         0.073308  \n",
       "4                         0.066476  "
      ]
     },
     "execution_count": 21,
     "metadata": {},
     "output_type": "execute_result"
    }
   ],
   "source": [
    "idaho.head()"
   ]
  },
  {
   "cell_type": "code",
   "execution_count": 13,
   "metadata": {},
   "outputs": [],
   "source": [
    "idaho.to_csv(\"data/idaho_data/idaho_normalized.csv\", index = False)"
   ]
  },
  {
   "cell_type": "code",
   "execution_count": 3,
   "metadata": {},
   "outputs": [],
   "source": [
    "idaho_test = pd.read_csv(\"data/idaho_data/idaho_test.csv\", index_col = False)\n",
    "idaho_train = pd.read_csv(\"data/idaho_data/idaho_train.csv\", index_col = False)"
   ]
  },
  {
   "cell_type": "code",
   "execution_count": 23,
   "metadata": {},
   "outputs": [],
   "source": [
    "idaho_test_normalized = idaho[idaho[\"Investment Name\"].isin(idaho_test[\"Investment Name\"])]\n",
    "idaho_train_normalized = idaho[idaho[\"Investment Name\"].isin(idaho_train[\"Investment Name\"])]"
   ]
  },
  {
   "cell_type": "code",
   "execution_count": 24,
   "metadata": {},
   "outputs": [],
   "source": [
    "idaho_train_normalized.to_csv(\"data/idaho_data/idaho_train_normalized.csv\", index = False)\n",
    "idaho_test_normalized.to_csv(\"data/idaho_data/idaho_test_normalized.csv\", index = False)"
   ]
  },
  {
   "cell_type": "code",
   "execution_count": 6,
   "metadata": {},
   "outputs": [
    {
     "data": {
      "text/plain": [
       "[<matplotlib.lines.Line2D at 0x15408ad10>]"
      ]
     },
     "execution_count": 6,
     "metadata": {},
     "output_type": "execute_result"
    },
    {
     "data": {
      "image/png": "[encoded data removed]",
      "text/plain": [
       "<Figure size 432x288 with 1 Axes>"
      ]
     },
     "metadata": {
      "needs_background": "light"
     },
     "output_type": "display_data"
    }
   ],
   "source": [
    "plt.figure()\n",
    "plt.plot(idaho_train[\"Paid-in Capital/Capital Drawn\"])\n",
    "plt.title(\"Paid-In Capital\")"
   ]
  },
  {
   "cell_type": "code",
   "execution_count": null,
   "metadata": {},
   "outputs": [],
   "source": []
  }
 ],
 "metadata": {
  "kernelspec": {
   "display_name": "Python 3.10.6 ('ml')",
   "language": "python",
   "name": "python3"
  },
  "language_info": {
   "codemirror_mode": {
    "name": "ipython",
    "version": 3
   },
   "file_extension": ".py",
   "mimetype": "text/x-python",
   "name": "python",
   "nbconvert_exporter": "python",
   "pygments_lexer": "ipython3",
   "version": "3.10.6"
  },
  "vscode": {
   "interpreter": {
    "hash": "4e27c2da514be0f4555df3a4c15a4c6256ef40203ad64abea68e2343d203af1e"
   }
  }
 },
 "nbformat": 4,
 "nbformat_minor": 2
}
