{
 "cells": [
  {
   "cell_type": "code",
   "execution_count": 1,
   "metadata": {},
   "outputs": [
    {
     "name": "stderr",
     "output_type": "stream",
     "text": [
      "/usr/local/Caskroom/miniforge/base/envs/ptor/lib/python3.9/site-packages/scipy/__init__.py:146: UserWarning: A NumPy version >=1.16.5 and <1.23.0 is required for this version of SciPy (detected version 1.23.3\n",
      "  warnings.warn(f\"A NumPy version >={np_minversion} and <{np_maxversion}\"\n"
     ]
    }
   ],
   "source": [
    "import pandas as pd\n",
    "import matplotlib.pyplot as plt\n",
    "import seaborn as sns\n",
    "import numpy as np\n",
    "from typing import *\n",
    "import os\n",
    "import datetime\n",
    "from mplcursors import cursor\n",
    "\n",
    "from ipywidgets import widgets, interactive\n",
    "\n",
    "%matplotlib widget"
   ]
  },
  {
   "cell_type": "code",
   "execution_count": 2,
   "metadata": {},
   "outputs": [
    {
     "data": {
      "text/html": [
       "<div>\n",
       "<style scoped>\n",
       "    .dataframe tbody tr th:only-of-type {\n",
       "        vertical-align: middle;\n",
       "    }\n",
       "\n",
       "    .dataframe tbody tr th {\n",
       "        vertical-align: top;\n",
       "    }\n",
       "\n",
       "    .dataframe thead th {\n",
       "        text-align: right;\n",
       "    }\n",
       "</style>\n",
       "<table border=\"1\" class=\"dataframe\">\n",
       "  <thead>\n",
       "    <tr style=\"text-align: right;\">\n",
       "      <th></th>\n",
       "      <th>Investment Name</th>\n",
       "      <th>Capital Committed</th>\n",
       "      <th>Unfunded Commitment</th>\n",
       "      <th>Paid-in Capital/Capital Drawn</th>\n",
       "      <th>Total Capital Distributed</th>\n",
       "      <th>Reported Market Value</th>\n",
       "      <th>Net IRR</th>\n",
       "      <th>Date</th>\n",
       "      <th>Capital Distributed Per Quarter</th>\n",
       "    </tr>\n",
       "  </thead>\n",
       "  <tbody>\n",
       "    <tr>\n",
       "      <th>0</th>\n",
       "      <td>Chisholm Partners IV, L.P.</td>\n",
       "      <td>25000000.0</td>\n",
       "      <td>17068716.0</td>\n",
       "      <td>7931284.0</td>\n",
       "      <td>3530.0</td>\n",
       "      <td>7504085.0</td>\n",
       "      <td>-0.0900</td>\n",
       "      <td>2000-03-31</td>\n",
       "      <td>3530.0</td>\n",
       "    </tr>\n",
       "    <tr>\n",
       "      <th>1</th>\n",
       "      <td>Chisholm Partners IV, L.P.</td>\n",
       "      <td>25000000.0</td>\n",
       "      <td>13219281.0</td>\n",
       "      <td>11780719.0</td>\n",
       "      <td>1721.0</td>\n",
       "      <td>12590794.0</td>\n",
       "      <td>0.1484</td>\n",
       "      <td>2000-06-30</td>\n",
       "      <td>-1809.0</td>\n",
       "    </tr>\n",
       "    <tr>\n",
       "      <th>2</th>\n",
       "      <td>Chisholm Partners IV, L.P.</td>\n",
       "      <td>25000000.0</td>\n",
       "      <td>9665879.0</td>\n",
       "      <td>15334121.0</td>\n",
       "      <td>1721.0</td>\n",
       "      <td>19480333.0</td>\n",
       "      <td>0.4699</td>\n",
       "      <td>2000-09-30</td>\n",
       "      <td>0.0</td>\n",
       "    </tr>\n",
       "    <tr>\n",
       "      <th>3</th>\n",
       "      <td>Chisholm Partners IV, L.P.</td>\n",
       "      <td>25000000.0</td>\n",
       "      <td>9385743.0</td>\n",
       "      <td>15614257.0</td>\n",
       "      <td>480243.0</td>\n",
       "      <td>18168998.0</td>\n",
       "      <td>0.2344</td>\n",
       "      <td>2000-12-31</td>\n",
       "      <td>478522.0</td>\n",
       "    </tr>\n",
       "    <tr>\n",
       "      <th>4</th>\n",
       "      <td>Chisholm Partners IV, L.P.</td>\n",
       "      <td>25000000.0</td>\n",
       "      <td>8646488.0</td>\n",
       "      <td>16353512.0</td>\n",
       "      <td>482051.0</td>\n",
       "      <td>18661104.0</td>\n",
       "      <td>0.1638</td>\n",
       "      <td>2001-03-31</td>\n",
       "      <td>1808.0</td>\n",
       "    </tr>\n",
       "  </tbody>\n",
       "</table>\n",
       "</div>"
      ],
      "text/plain": [
       "              Investment Name  Capital Committed  Unfunded Commitment  \\\n",
       "0  Chisholm Partners IV, L.P.         25000000.0           17068716.0   \n",
       "1  Chisholm Partners IV, L.P.         25000000.0           13219281.0   \n",
       "2  Chisholm Partners IV, L.P.         25000000.0            9665879.0   \n",
       "3  Chisholm Partners IV, L.P.         25000000.0            9385743.0   \n",
       "4  Chisholm Partners IV, L.P.         25000000.0            8646488.0   \n",
       "\n",
       "   Paid-in Capital/Capital Drawn  Total Capital Distributed  \\\n",
       "0                      7931284.0                     3530.0   \n",
       "1                     11780719.0                     1721.0   \n",
       "2                     15334121.0                     1721.0   \n",
       "3                     15614257.0                   480243.0   \n",
       "4                     16353512.0                   482051.0   \n",
       "\n",
       "   Reported Market Value  Net IRR        Date  Capital Distributed Per Quarter  \n",
       "0              7504085.0  -0.0900  2000-03-31                           3530.0  \n",
       "1             12590794.0   0.1484  2000-06-30                          -1809.0  \n",
       "2             19480333.0   0.4699  2000-09-30                              0.0  \n",
       "3             18168998.0   0.2344  2000-12-31                         478522.0  \n",
       "4             18661104.0   0.1638  2001-03-31                           1808.0  "
      ]
     },
     "execution_count": 2,
     "metadata": {},
     "output_type": "execute_result"
    }
   ],
   "source": [
    "cd = os.getcwd()\n",
    "idaho_data = pd.read_csv(cd + \"/data/idaho_data/Idaho_2000_2022.csv\", index_col = False)\n",
    "idaho_data.head()"
   ]
  },
  {
   "cell_type": "code",
   "execution_count": 3,
   "metadata": {},
   "outputs": [
    {
     "name": "stdout",
     "output_type": "stream",
     "text": [
      "Index(['Investment Name', 'Capital Committed', 'Unfunded Commitment',\n",
      "       'Paid-in Capital/Capital Drawn', 'Total Capital Distributed',\n",
      "       'Reported Market Value', 'Net IRR', 'Date',\n",
      "       'Capital Distributed Per Quarter'],\n",
      "      dtype='object')\n",
      "<class 'pandas.core.frame.DataFrame'>\n",
      "RangeIndex: 4332 entries, 0 to 4331\n",
      "Data columns (total 9 columns):\n",
      " #   Column                           Non-Null Count  Dtype  \n",
      "---  ------                           --------------  -----  \n",
      " 0   Investment Name                  4332 non-null   object \n",
      " 1   Capital Committed                4332 non-null   float64\n",
      " 2   Unfunded Commitment              4332 non-null   float64\n",
      " 3   Paid-in Capital/Capital Drawn    4332 non-null   float64\n",
      " 4   Total Capital Distributed        4332 non-null   float64\n",
      " 5   Reported Market Value            4332 non-null   float64\n",
      " 6   Net IRR                          4332 non-null   float64\n",
      " 7   Date                             4332 non-null   object \n",
      " 8   Capital Distributed Per Quarter  4332 non-null   float64\n",
      "dtypes: float64(7), object(2)\n",
      "memory usage: 304.7+ KB\n"
     ]
    }
   ],
   "source": [
    "print(idaho_data.columns)\n",
    "idaho_data.info()"
   ]
  },
  {
   "cell_type": "code",
   "execution_count": 4,
   "metadata": {},
   "outputs": [],
   "source": [
    "idaho_data[\"Date\"] = pd.to_datetime(idaho_data[\"Date\"]).dt.date # this makes it play nice with the date picker"
   ]
  },
  {
   "cell_type": "code",
   "execution_count": 5,
   "metadata": {},
   "outputs": [
    {
     "name": "stdout",
     "output_type": "stream",
     "text": [
      "<class 'pandas.core.series.Series'>\n",
      "RangeIndex: 4332 entries, 0 to 4331\n",
      "Series name: Date\n",
      "Non-Null Count  Dtype \n",
      "--------------  ----- \n",
      "4332 non-null   object\n",
      "dtypes: object(1)\n",
      "memory usage: 34.0+ KB\n"
     ]
    }
   ],
   "source": [
    "idaho_data[\"Date\"].info()"
   ]
  },
  {
   "cell_type": "code",
   "execution_count": 8,
   "metadata": {},
   "outputs": [
    {
     "data": {
      "text/plain": [
       "4332"
      ]
     },
     "execution_count": 8,
     "metadata": {},
     "output_type": "execute_result"
    }
   ],
   "source": [
    "len(idaho_data)"
   ]
  },
  {
   "cell_type": "code",
   "execution_count": 6,
   "metadata": {},
   "outputs": [],
   "source": [
    "def makewidgets(df: pd.DataFrame = idaho_data, fund_col: str = \"Investment Name\", date_col: str = \"Date\"):\n",
    "    \"\"\"\n",
    "    Makes the widgets for the fundplot\n",
    "    \"\"\"\n",
    "    fund_names_widget = widgets.Dropdown(\n",
    "    options = list(df[fund_col].unique()),\n",
    "    value = \"Chisholm Partners IV, L.P.\",\n",
    "    description = \"Fund Name\",\n",
    "    disabled = False\n",
    "    )\n",
    "\n",
    "    start_year_widget = widgets.DatePicker(\n",
    "        max = df[date_col].max(),\n",
    "        min = df[date_col].min(),\n",
    "        value = df[date_col].min(),\n",
    "        disabled = False\n",
    "    )\n",
    "    end_year_widget = widgets.DatePicker(\n",
    "        max = df[date_col].max(),\n",
    "        min = df[date_col].min(),\n",
    "        value = df[date_col].max(),\n",
    "        disabled = False\n",
    "    )\n",
    "    return fund_names_widget, start_year_widget, end_year_widget\n",
    "\n",
    "\n",
    "def fundplot(fund_names: widgets.Dropdown = None, start_year: widgets.Dropdown = None, end_year: widgets.Dropdown = None):\n",
    "    \"\"\"\n",
    "    Makes an interactive plot with a fund dropdown and date filter\n",
    "    \n",
    "    inputs\n",
    "    -------\n",
    "    df:: pd.DataFrame, the relevant data\n",
    "\n",
    "    outputs\n",
    "    -------\n",
    "    None\n",
    "    \"\"\"\n",
    "\n",
    "    df = idaho_data.copy()\n",
    "\n",
    "    df = df[df[\"Investment Name\"] == fund_names]\n",
    "    df = df[(df[\"Date\"] >= start_year) & (df[\"Date\"] <= end_year)]\n",
    "    \n",
    "    # don't really care about committment since its constant\n",
    "    plots = df.columns.drop([\"Investment Name\", \"Date\", \"Capital Committed\"])\n",
    "\n",
    "    if len(df) == 0:\n",
    "        print(\"No selection\")\n",
    "    \n",
    "    fig, ax = plt.subplots(nrows = 3, ncols = 2, figsize = (15,15))\n",
    "\n",
    "    for i in range(3):\n",
    "        for j in range(2):\n",
    "            ax[i,j].plot(df[plots[2*i +j]])\n",
    "            ax[i,j].set_title(plots[2*i + j])\n",
    "            ax[i,j].set_xlabel(\"Quarter\")\n",
    "            ax[i,j].set_ylabel(plots[2*i + j])\n",
    "            cursor(hover = True)\n",
    "\n",
    "    fig.suptitle(f\"Fund: {fund_names}, (n = {len(df)})\", fontsize = 16)\n",
    "    plt.show()\n"
   ]
  },
  {
   "cell_type": "code",
   "execution_count": 7,
   "metadata": {},
   "outputs": [
    {
     "data": {
      "application/vnd.jupyter.widget-view+json": {
       "model_id": "634ab6779d384dacbdfadf8975c38f43",
       "version_major": 2,
       "version_minor": 0
      },
      "text/plain": [
       "interactive(children=(Dropdown(description='Fund Name', options=('Chisholm Partners IV, L.P.', 'FCI Enclosures…"
      ]
     },
     "execution_count": 7,
     "metadata": {},
     "output_type": "execute_result"
    }
   ],
   "source": [
    "fund_name, start_year, end_year = makewidgets()\n",
    "interactive(fundplot, fund_names = fund_name, start_year = start_year, end_year = end_year)"
   ]
  },
  {
   "cell_type": "code",
   "execution_count": null,
   "metadata": {},
   "outputs": [],
   "source": [
    "\n"
   ]
  }
 ],
 "metadata": {
  "kernelspec": {
   "display_name": "Python 3.9.13 ('ptor')",
   "language": "python",
   "name": "python3"
  },
  "language_info": {
   "codemirror_mode": {
    "name": "ipython",
    "version": 3
   },
   "file_extension": ".py",
   "mimetype": "text/x-python",
   "name": "python",
   "nbconvert_exporter": "python",
   "pygments_lexer": "ipython3",
   "version": "3.9.13"
  },
  "orig_nbformat": 4,
  "vscode": {
   "interpreter": {
    "hash": "cfcea13c0e3ac6dbab6ff05fa15cb1471a5ec149ef468a1200b009cb3361165f"
   }
  }
 },
 "nbformat": 4,
 "nbformat_minor": 2
}
